{
 "cells": [
  {
   "cell_type": "markdown",
   "metadata": {},
   "source": [
    "# Graph Magma Class "
   ]
  },
  {
   "cell_type": "code",
   "execution_count": 9,
   "metadata": {},
   "outputs": [],
   "source": [
    "class graphMagma:\n",
    "    from sage.matrix.constructor import block_matrix, zero_matrix, identity_matrix, matrix\n",
    "    from sage.rings.integer_ring import ZZ\n",
    "    #Create a global variable to store the generators\n",
    "    generators = []\n",
    "    Inc = matrix(ZZ, 0, 0, [])\n",
    "    multiplication_table = matrix(SR,0,0,[])\n",
    "    #Create a global variable to store the graph\n",
    "    graph = []\n",
    "    def __init__(self, graph:list):\n",
    "        self.graph = graph\n",
    "        self.generators = self.getGenerators()\n",
    "        self.Inc = self.getIncidenceMatrix()\n",
    "        self.multiplication_table = self.getMultiplicationTable()\n",
    "    def getGenerators(self):\n",
    "        self.generators = []\n",
    "        for i in range(len(self.graph)):\n",
    "            for j in range(self.graph[i][1]):\n",
    "                self.generators.append(var(f\"a_{i}_{j}\", latex_name=fr\"\\alpha_{{{i},{j}}}\"))\n",
    "        return self.generators\n",
    "    def getGraph(self):\n",
    "        return self.graph\n",
    "    def incidenceMatrix(self):\n",
    "        G=self.graph\n",
    "        I=self.Inc\n",
    "        for g in G:\n",
    "            if g[0] == 'K':\n",
    "                I = block_matrix([[I, matrix(I.nrows(), g[1],[1]*(I.nrows()*g[1]))], [zero_matrix(g[1], I.ncols()), matrix(g[1], g[1], [1]*(g[1]*g[1]))]])\n",
    "            else:\n",
    "                I = block_matrix([[I, matrix(I.nrows(), g[1],[1]*(I.nrows()*g[1]))], [zero_matrix(g[1], I.ncols()), matrix(g[1],g[1])]])  \n",
    "        self.Inc = I\n",
    "    def getIncidenceMatrix(self):\n",
    "        self.incidenceMatrix()\n",
    "        return self.Inc  \n",
    "    def multiplicationTable(self):\n",
    "        I=self.Inc\n",
    "        M=matrix(SR,I.nrows(),I.nrows())\n",
    "        self.getGenerators()\n",
    "        for i in range(I.nrows()):\n",
    "            for j in range(I.nrows()):\n",
    "                if I[i,j]==0:\n",
    "                    M[i,j]=self.generators[j]\n",
    "                else:\n",
    "                    M[i,j]=self.generators[i]\n",
    "        self.multiplication_table = M\n",
    "    def getMultiplicationTable(self):\n",
    "        self.multiplicationTable()\n",
    "        return self.multiplication_table"
   ]
  },
  {
   "cell_type": "markdown",
   "metadata": {},
   "source": [
    "# Graph Magma Algebra Class"
   ]
  },
  {
   "cell_type": "code",
   "execution_count": 41,
   "metadata": {},
   "outputs": [],
   "source": [
    "from sage.algebras.free_algebra import FreeAlgebra\n",
    "from sage.algebras.free_algebra_quotient import FreeAlgebraQuotient\n",
    "from sage.structure.element import Element\n",
    "from random import choice\n",
    "relations=[]\n",
    "class GraphMagmaAlg:\n",
    "    def __init__(self,base_ring,GM:graphMagma):\n",
    "        R=FreeAlgebraQuotient\n",
    "        self.base_ring=base_ring\n",
    "        self.generators=GM.getGenerators()\n",
    "        self.generators_str=[str(g) for g in self.generators]\n",
    "        self.graph=GM.getGraph()\n",
    "        self.multiplication_table=GM.getMultiplicationTable()\n",
    "        # Determine the number of generators from the list\n",
    "        n = len(self.generators)\n",
    "        # Create a string for the generator names\n",
    "        generator_names_str =', '.join(self.generators_str)\n",
    "        #g_str=f\"R.<{generator_names_str}>=FreeAlgebraQuotient(A,self.mons,self.mats)\";print(g_str)\n",
    "        # Create the FreeAlgebra instance\n",
    "        A = FreeAlgebra(base_ring, n,generator_names_str)\n",
    "        self.alg=A\n",
    "        F=A.monoid() #generator_names_str=F.gens();print(F.gens())\n",
    "        self.mons=[F(1)]+list(F.gens())\n",
    "        self.mats=self.build_relations()\n",
    "        self.magma_algebra=FreeAlgebraQuotient(A, self.mons, self.mats, names=self.generators_str)\n",
    "        splt=[g[1] for g in self.graph]\n",
    "        L=list(self.magma_algebra.gens()).copy()\n",
    "        self.magma_algebra_gens=self.split_list(L,list(splt))\n",
    "        self.local_decomposition=self.getDecomposition()\n",
    "        self.left_indecomposables=self.getLeftIndecomposables()\n",
    "        \n",
    "    \n",
    "    def __contains__(self, item):\n",
    "        return item in self.magma_algebra\n",
    "    \n",
    "    def __str__(self):\n",
    "        return f\"GraphMagmaAlg with generators {list(self.generators_str)}\"\n",
    "    def __repr__(self):\n",
    "        return f\"GraphMagmaAlg with generators {list(self.generators_str)}\"\n",
    "\n",
    "    def build_relations(self):\n",
    "        act=[];L=[];idx=0\n",
    "        n=len(self.generators)\n",
    "        self.relations=[];M=MatrixSpace(self.base_ring,n+1);I=identity_matrix(n+1)\n",
    "        T=self.multiplication_table\n",
    "        for j in range(T.nrows()):\n",
    "            L=list(I[j+1])\n",
    "            for i in range(T.ncols()):\n",
    "                idx=self.generators.index(T[i,j])\n",
    "                L+=list(I[idx+1])\n",
    "            act.append(M(L))\n",
    "        return act\n",
    "            \n",
    "    def split_list(self,L, lengths):\n",
    "        result = []\n",
    "        index = 0\n",
    "        for length in lengths:\n",
    "            sublist = L[index:index + length]\n",
    "            result.append(sublist)\n",
    "            index += length\n",
    "        return result\n",
    "\n",
    "    def getDecomposition(self):\n",
    "        R=self.magma_algebra;g=self.magma_algebra_gens\n",
    "        L=[R(f[0]) for f in g]\n",
    "        ideal_generators=[L[0]]+[L[i]-L[i-1] for i in [1..len(L)-1]]\n",
    "        return ideal_generators\n",
    "\n",
    "    def getLeftIndecomposables(self):\n",
    "        R=self.magma_algebra\n",
    "        IG=self.local_decomposition\n",
    "        return [R.lideal(g) for g in IG]\n"
   ]
  },
  {
   "cell_type": "code",
   "execution_count": 42,
   "metadata": {},
   "outputs": [
    {
     "ename": "AttributeError",
     "evalue": "'FreeAlgebraQuotient_with_category' object has no attribute 'lideal'",
     "output_type": "error",
     "traceback": [
      "\u001b[0;31m---------------------------------------------------------------------------\u001b[0m",
      "\u001b[0;31mKeyError\u001b[0m                                  Traceback (most recent call last)",
      "File \u001b[0;32m~/mambaforge/envs/sage/lib/python3.11/site-packages/sage/structure/category_object.pyx:847\u001b[0m, in \u001b[0;36msage.structure.category_object.CategoryObject.getattr_from_category (build/cythonized/sage/structure/category_object.c:9568)\u001b[0;34m()\u001b[0m\n\u001b[1;32m    846\u001b[0m try:\n\u001b[0;32m--> 847\u001b[0m     return self._cached_methods[name]\n\u001b[1;32m    848\u001b[0m except KeyError:\n",
      "\u001b[0;31mKeyError\u001b[0m: 'lideal'",
      "\nDuring handling of the above exception, another exception occurred:\n",
      "\u001b[0;31mAttributeError\u001b[0m                            Traceback (most recent call last)",
      "Cell \u001b[0;32mIn[42], line 2\u001b[0m\n\u001b[1;32m      1\u001b[0m M\u001b[38;5;241m=\u001b[39mgraphMagma([(\u001b[38;5;124m'\u001b[39m\u001b[38;5;124mK\u001b[39m\u001b[38;5;124m'\u001b[39m,Integer(\u001b[38;5;241m2\u001b[39m)),(\u001b[38;5;124m'\u001b[39m\u001b[38;5;124mN\u001b[39m\u001b[38;5;124m'\u001b[39m,Integer(\u001b[38;5;241m3\u001b[39m))])\n\u001b[0;32m----> 2\u001b[0m GM\u001b[38;5;241m=\u001b[39mGraphMagmaAlg(QQ,M);GM\u001b[38;5;241m.\u001b[39mleft_indecomposables\n",
      "Cell \u001b[0;32mIn[41], line 30\u001b[0m, in \u001b[0;36mGraphMagmaAlg.__init__\u001b[0;34m(self, base_ring, GM)\u001b[0m\n\u001b[1;32m     28\u001b[0m \u001b[38;5;28mself\u001b[39m\u001b[38;5;241m.\u001b[39mmagma_algebra_gens\u001b[38;5;241m=\u001b[39m\u001b[38;5;28mself\u001b[39m\u001b[38;5;241m.\u001b[39msplit_list(L,\u001b[38;5;28mlist\u001b[39m(splt))\n\u001b[1;32m     29\u001b[0m \u001b[38;5;28mself\u001b[39m\u001b[38;5;241m.\u001b[39mlocal_decomposition\u001b[38;5;241m=\u001b[39m\u001b[38;5;28mself\u001b[39m\u001b[38;5;241m.\u001b[39mgetDecomposition()\n\u001b[0;32m---> 30\u001b[0m \u001b[38;5;28mself\u001b[39m\u001b[38;5;241m.\u001b[39mleft_indecomposables\u001b[38;5;241m=\u001b[39m\u001b[38;5;28;43mself\u001b[39;49m\u001b[38;5;241;43m.\u001b[39;49m\u001b[43mgetLeftIndecomposables\u001b[49m\u001b[43m(\u001b[49m\u001b[43m)\u001b[49m\n",
      "Cell \u001b[0;32mIn[41], line 72\u001b[0m, in \u001b[0;36mGraphMagmaAlg.getLeftIndecomposables\u001b[0;34m(self)\u001b[0m\n\u001b[1;32m     70\u001b[0m R\u001b[38;5;241m=\u001b[39m\u001b[38;5;28mself\u001b[39m\u001b[38;5;241m.\u001b[39mmagma_algebra\n\u001b[1;32m     71\u001b[0m IG\u001b[38;5;241m=\u001b[39m\u001b[38;5;28mself\u001b[39m\u001b[38;5;241m.\u001b[39mlocal_decomposition\n\u001b[0;32m---> 72\u001b[0m \u001b[38;5;28;01mreturn\u001b[39;00m \u001b[43m[\u001b[49m\u001b[43mR\u001b[49m\u001b[38;5;241;43m.\u001b[39;49m\u001b[43mlideal\u001b[49m\u001b[43m(\u001b[49m\u001b[43mg\u001b[49m\u001b[43m)\u001b[49m\u001b[43m \u001b[49m\u001b[38;5;28;43;01mfor\u001b[39;49;00m\u001b[43m \u001b[49m\u001b[43mg\u001b[49m\u001b[43m \u001b[49m\u001b[38;5;129;43;01min\u001b[39;49;00m\u001b[43m \u001b[49m\u001b[43mIG\u001b[49m\u001b[43m]\u001b[49m\n",
      "Cell \u001b[0;32mIn[41], line 72\u001b[0m, in \u001b[0;36m<listcomp>\u001b[0;34m(.0)\u001b[0m\n\u001b[1;32m     70\u001b[0m R\u001b[38;5;241m=\u001b[39m\u001b[38;5;28mself\u001b[39m\u001b[38;5;241m.\u001b[39mmagma_algebra\n\u001b[1;32m     71\u001b[0m IG\u001b[38;5;241m=\u001b[39m\u001b[38;5;28mself\u001b[39m\u001b[38;5;241m.\u001b[39mlocal_decomposition\n\u001b[0;32m---> 72\u001b[0m \u001b[38;5;28;01mreturn\u001b[39;00m [\u001b[43mR\u001b[49m\u001b[38;5;241;43m.\u001b[39;49m\u001b[43mlideal\u001b[49m(g) \u001b[38;5;28;01mfor\u001b[39;00m g \u001b[38;5;129;01min\u001b[39;00m IG]\n",
      "File \u001b[0;32m~/mambaforge/envs/sage/lib/python3.11/site-packages/sage/structure/category_object.pyx:841\u001b[0m, in \u001b[0;36msage.structure.category_object.CategoryObject.__getattr__ (build/cythonized/sage/structure/category_object.c:9488)\u001b[0;34m()\u001b[0m\n\u001b[1;32m    839\u001b[0m         AttributeError: 'PrimeNumbers_with_category' object has no attribute 'sadfasdf'...\n\u001b[1;32m    840\u001b[0m     \"\"\"\n\u001b[0;32m--> 841\u001b[0m     return self.getattr_from_category(name)\n\u001b[1;32m    842\u001b[0m \n\u001b[1;32m    843\u001b[0m cdef getattr_from_category(self, name) noexcept:\n",
      "File \u001b[0;32m~/mambaforge/envs/sage/lib/python3.11/site-packages/sage/structure/category_object.pyx:856\u001b[0m, in \u001b[0;36msage.structure.category_object.CategoryObject.getattr_from_category (build/cythonized/sage/structure/category_object.c:9652)\u001b[0;34m()\u001b[0m\n\u001b[1;32m    854\u001b[0m     cls = self._category.parent_class\n\u001b[1;32m    855\u001b[0m \n\u001b[0;32m--> 856\u001b[0m attr = getattr_from_other_class(self, cls, name)\n\u001b[1;32m    857\u001b[0m self._cached_methods[name] = attr\n\u001b[1;32m    858\u001b[0m return attr\n",
      "File \u001b[0;32m~/mambaforge/envs/sage/lib/python3.11/site-packages/sage/cpython/getattr.pyx:357\u001b[0m, in \u001b[0;36msage.cpython.getattr.getattr_from_other_class (build/cythonized/sage/cpython/getattr.c:4376)\u001b[0;34m()\u001b[0m\n\u001b[1;32m    355\u001b[0m     dummy_error_message.cls = type(self)\n\u001b[1;32m    356\u001b[0m     dummy_error_message.name = name\n\u001b[0;32m--> 357\u001b[0m     raise AttributeError(dummy_error_message)\n\u001b[1;32m    358\u001b[0m cdef PyObject* attr = instance_getattr(cls, name)\n\u001b[1;32m    359\u001b[0m if attr is NULL:\n",
      "\u001b[0;31mAttributeError\u001b[0m: 'FreeAlgebraQuotient_with_category' object has no attribute 'lideal'"
     ]
    }
   ],
   "source": [
    "M=graphMagma([('K',2),('N',3)])\n",
    "GM=GraphMagmaAlg(QQ,M);GM.left_indecomposables"
   ]
  },
  {
   "cell_type": "code",
   "execution_count": 4,
   "metadata": {},
   "outputs": [
    {
     "data": {
      "text/plain": [
       "Free algebra quotient on 5 generators ('a_0_0', 'a_0_1', 'a_1_0', 'a_1_1', 'a_1_2') and dimension 6 over Rational Field"
      ]
     },
     "execution_count": 4,
     "metadata": {},
     "output_type": "execute_result"
    }
   ],
   "source": [
    "R=GM.magma_algebra\n",
    "R"
   ]
  },
  {
   "cell_type": "code",
   "execution_count": 6,
   "metadata": {},
   "outputs": [
    {
     "data": {
      "text/plain": [
       "a_0_0"
      ]
     },
     "execution_count": 6,
     "metadata": {},
     "output_type": "execute_result"
    }
   ],
   "source": [
    "g=GM.magma_algebra_gens\n",
    "(g[0][0]*g[1][0])"
   ]
  },
  {
   "cell_type": "code",
   "execution_count": 45,
   "metadata": {},
   "outputs": [
    {
     "data": {
      "text/plain": [
       "True"
      ]
     },
     "execution_count": 45,
     "metadata": {},
     "output_type": "execute_result"
    }
   ],
   "source": [
    "g[0][0]^2==g[0][0]"
   ]
  },
  {
   "cell_type": "code",
   "execution_count": 11,
   "metadata": {},
   "outputs": [
    {
     "data": {
      "text/plain": [
       "[[a_0_0, a_0_1], [a_1_0, a_1_1, a_1_2]]"
      ]
     },
     "execution_count": 11,
     "metadata": {},
     "output_type": "execute_result"
    }
   ],
   "source": [
    "g"
   ]
  },
  {
   "cell_type": "code",
   "execution_count": 13,
   "metadata": {},
   "outputs": [
    {
     "data": {
      "text/plain": [
       "True"
      ]
     },
     "execution_count": 13,
     "metadata": {},
     "output_type": "execute_result"
    }
   ],
   "source": [
    "(1-g[0][0])**2==1-g[0][0]"
   ]
  },
  {
   "cell_type": "code",
   "execution_count": null,
   "metadata": {},
   "outputs": [],
   "source": []
  }
 ],
 "metadata": {
  "kernelspec": {
   "display_name": "SageMath 10.2",
   "language": "sage",
   "name": "sagemath"
  },
  "language_info": {
   "codemirror_mode": {
    "name": "ipython",
    "version": 3
   },
   "file_extension": ".py",
   "mimetype": "text/x-python",
   "name": "python",
   "nbconvert_exporter": "python",
   "pygments_lexer": "ipython3",
   "version": "3.11.7"
  }
 },
 "nbformat": 4,
 "nbformat_minor": 2
}
