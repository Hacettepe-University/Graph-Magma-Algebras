{
 "cells": [
  {
   "cell_type": "markdown",
   "metadata": {},
   "source": [
    "# Graph Magma Class "
   ]
  },
  {
   "cell_type": "code",
   "execution_count": 1,
   "metadata": {},
   "outputs": [],
   "source": [
    "class graphMagma:\n",
    "    from sage.matrix.constructor import block_matrix, zero_matrix, identity_matrix, matrix\n",
    "    from sage.rings.integer_ring import ZZ\n",
    "    #Create a global variable to store the generators\n",
    "    generators = []\n",
    "    Inc = matrix(ZZ, 0, 0, [])\n",
    "    multiplication_table = matrix(SR,0,0,[])\n",
    "    #Create a global variable to store the graph\n",
    "    graph = []\n",
    "    def __init__(self, graph:list):\n",
    "        self.graph = graph\n",
    "        self.generators = self.getGenerators()\n",
    "        self.Inc = self.getIncidenceMatrix()\n",
    "        self.multiplication_table = self.getMultiplicationTable()\n",
    "    def getGenerators(self):\n",
    "        self.generators = []\n",
    "        for i in range(len(self.graph)):\n",
    "            for j in range(self.graph[i][1]):\n",
    "                self.generators.append(var(f\"a_{i}_{j}\", latex_name=fr\"\\alpha_{{{i},{j}}}\"))\n",
    "        return self.generators\n",
    "    def getGraph(self):\n",
    "        return self.graph\n",
    "    def incidenceMatrix(self):\n",
    "        G=self.graph\n",
    "        I=self.Inc\n",
    "        for g in G:\n",
    "            if g[0] == 'K':\n",
    "                I = block_matrix([[I, matrix(I.nrows(), g[1],[1]*(I.nrows()*g[1]))], [zero_matrix(g[1], I.ncols()), matrix(g[1], g[1], [1]*(g[1]*g[1]))]])\n",
    "            else:\n",
    "                I = block_matrix([[I, matrix(I.nrows(), g[1],[1]*(I.nrows()*g[1]))], [zero_matrix(g[1], I.ncols()), matrix(g[1],g[1])]])  \n",
    "        self.Inc = I\n",
    "    def getIncidenceMatrix(self):\n",
    "        self.incidenceMatrix()\n",
    "        return self.Inc  \n",
    "    def multiplicationTable(self):\n",
    "        I=self.Inc\n",
    "        M=matrix(SR,I.nrows(),I.nrows())\n",
    "        self.getGenerators()\n",
    "        for i in range(I.nrows()):\n",
    "            for j in range(I.nrows()):\n",
    "                if I[i,j]==0:\n",
    "                    M[i,j]=self.generators[j]\n",
    "                else:\n",
    "                    M[i,j]=self.generators[i]\n",
    "        self.multiplication_table = M\n",
    "    def getMultiplicationTable(self):\n",
    "        self.multiplicationTable()\n",
    "        return self.multiplication_table"
   ]
  },
  {
   "cell_type": "markdown",
   "metadata": {},
   "source": [
    "# Graph Magma Algebra Class"
   ]
  },
  {
   "cell_type": "code",
   "execution_count": 7,
   "metadata": {},
   "outputs": [],
   "source": [
    "from sage.algebras.free_algebra import FreeAlgebra\n",
    "from sage.algebras.free_algebra_quotient import FreeAlgebraQuotient\n",
    "from sage.structure.element import Element\n",
    "from random import choice\n",
    "relations=[]\n",
    "class GraphMagmaAlg:\n",
    "    def __init__(self,base_ring,GM:graphMagma):\n",
    "        R=FreeAlgebraQuotient\n",
    "        self.base_ring=base_ring\n",
    "        self.generators=GM.getGenerators()\n",
    "        self.generators_str=[str(g) for g in self.generators]\n",
    "        self.graph=GM.getGraph()\n",
    "        self.multiplication_table=GM.getMultiplicationTable()\n",
    "        # Determine the number of generators from the list\n",
    "        n = len(self.generators)\n",
    "        # Create a string for the generator names\n",
    "        generator_names_str =', '.join(self.generators_str)\n",
    "        #g_str=f\"R.<{generator_names_str}>=FreeAlgebraQuotient(A,self.mons,self.mats)\";print(g_str)\n",
    "        # Create the FreeAlgebra instance\n",
    "        A = FreeAlgebra(base_ring, n,generator_names_str)\n",
    "        self.alg=A\n",
    "        F=A.monoid() #generator_names_str=F.gens();print(F.gens())\n",
    "        self.mons=[F(1)]+list(F.gens())\n",
    "        self.mats=self.build_relations()\n",
    "        self.magma_algebra=FreeAlgebraQuotient(A, self.mons, self.mats, names=self.generators_str)\n",
    "        splt=[g[1] for g in self.graph]\n",
    "        L=list(self.magma_algebra.gens()).copy()\n",
    "        self.magma_algebra_gens=self.split_list(L,list(splt))\n",
    "        \n",
    "    \n",
    "    def __contains__(self, item):\n",
    "        return item in self.magma_algebra\n",
    "    \n",
    "    def __str__(self):\n",
    "        return f\"GraphMagmaAlg with generators {list(self.generators_str)}\"\n",
    "    def __repr__(self):\n",
    "        return f\"GraphMagmaAlg with generators {list(self.generators_str)}\"\n",
    "\n",
    "    def build_relations(self):\n",
    "        act=[];L=[];idx=0\n",
    "        n=len(self.generators)\n",
    "        self.relations=[];M=MatrixSpace(self.base_ring,n+1);I=identity_matrix(n+1)\n",
    "        T=self.multiplication_table\n",
    "        for j in range(T.nrows()):\n",
    "            L=list(I[j+1])\n",
    "            for i in range(T.ncols()):\n",
    "                idx=self.generators.index(T[i,j])\n",
    "                L+=list(I[idx+1])\n",
    "            act.append(M(L))\n",
    "        return act\n",
    "            \n",
    "    def split_list(self,L, lengths):\n",
    "        result = []\n",
    "        index = 0\n",
    "        for length in lengths:\n",
    "            sublist = L[index:index + length]\n",
    "            result.append(sublist)\n",
    "            index += length\n",
    "        return result\n",
    "\n",
    "\n"
   ]
  },
  {
   "cell_type": "code",
   "execution_count": 8,
   "metadata": {},
   "outputs": [
    {
     "data": {
      "text/plain": [
       "[('K', 2), ('N', 3)]"
      ]
     },
     "execution_count": 8,
     "metadata": {},
     "output_type": "execute_result"
    }
   ],
   "source": [
    "M=graphMagma([('K',2),('N',3)])\n",
    "GM=GraphMagmaAlg(QQ,M);GM.graph"
   ]
  },
  {
   "cell_type": "code",
   "execution_count": 4,
   "metadata": {},
   "outputs": [
    {
     "data": {
      "text/plain": [
       "Free algebra quotient on 5 generators ('a_0_0', 'a_0_1', 'a_1_0', 'a_1_1', 'a_1_2') and dimension 6 over Rational Field"
      ]
     },
     "execution_count": 4,
     "metadata": {},
     "output_type": "execute_result"
    }
   ],
   "source": [
    "R=GM.magma_algebra\n",
    "R"
   ]
  },
  {
   "cell_type": "code",
   "execution_count": 6,
   "metadata": {},
   "outputs": [
    {
     "data": {
      "text/plain": [
       "a_0_0"
      ]
     },
     "execution_count": 6,
     "metadata": {},
     "output_type": "execute_result"
    }
   ],
   "source": [
    "g=GM.magma_algebra_gens\n",
    "(g[0][0]*g[1][0])"
   ]
  },
  {
   "cell_type": "code",
   "execution_count": 45,
   "metadata": {},
   "outputs": [
    {
     "data": {
      "text/plain": [
       "True"
      ]
     },
     "execution_count": 45,
     "metadata": {},
     "output_type": "execute_result"
    }
   ],
   "source": [
    "g[0][0]^2==g[0][0]"
   ]
  },
  {
   "cell_type": "code",
   "execution_count": null,
   "metadata": {},
   "outputs": [],
   "source": []
  }
 ],
 "metadata": {
  "kernelspec": {
   "display_name": "SageMath 10.2",
   "language": "sage",
   "name": "sagemath"
  },
  "language_info": {
   "codemirror_mode": {
    "name": "ipython",
    "version": 3
   },
   "file_extension": ".py",
   "mimetype": "text/x-python",
   "name": "python",
   "nbconvert_exporter": "python",
   "pygments_lexer": "ipython3",
   "version": "3.11.7"
  }
 },
 "nbformat": 4,
 "nbformat_minor": 2
}
